{
 "cells": [
  {
   "cell_type": "markdown",
   "metadata": {},
   "source": [
    "# Example for usage of tools and configurations\n",
    "This notebook is an example of how simulation tools, configurations, and reporting can be done harmoniously if a common structure is established. <br>\n",
    "Note that this structure is commonly seen among large software teams that are constantly co-developing and producing/maintaining production code. <br>\n",
    "<br>\n",
    "*This notebook represents a report that could be the artifact of an analysis informing science impact of a given parameter.*"
   ]
  },
  {
   "cell_type": "markdown",
   "metadata": {
    "vscode": {
     "languageId": "plaintext"
    }
   },
   "source": [
    "## Load dependencies"
   ]
  },
  {
   "cell_type": "code",
   "execution_count": 1,
   "metadata": {},
   "outputs": [],
   "source": [
    "# load dependencies for this report\n",
    "import matplotlib.pyplot as plt\n",
    "import utils_config\n",
    "import warnings\n",
    "\n",
    "warnings.simplefilter(\"always\")\n",
    "import config_stp  # must be pip installed\n",
    "import config_project_template  # must be pip installed"
   ]
  },
  {
   "cell_type": "markdown",
   "metadata": {},
   "source": [
    "## Import simulation Tool(s)\n",
    "For the sake of this demonstration an example_tool.py method was located in the same directory as this file.<br>\n",
    "A more representative example would incorporate importing a more realistic simulation tool such as one of the exposure time calculators."
   ]
  },
  {
   "cell_type": "code",
   "execution_count": 2,
   "metadata": {},
   "outputs": [],
   "source": [
    "import example_tool"
   ]
  },
  {
   "cell_type": "markdown",
   "metadata": {},
   "source": [
    "Display the git hash being executed so there is traceability for reproducing the result in the future. <br>\n",
    "The config_utils package provides a single function to report this for the standard config repos. \n"
   ]
  },
  {
   "cell_type": "code",
   "execution_count": 3,
   "metadata": {},
   "outputs": [
    {
     "name": "stdout",
     "output_type": "stream",
     "text": [
      "Module         Imported Installed_Version    Branch  is_dirty()?\n",
      "-------------- -------- -------------------- ------- -----------\n",
      "config_stp     True     0.0.post112+g9a50d77 N/A     False      \n",
      "config_um      False    0.0.post7+g7669945   develop False      \n",
      "config_stp_wcc False    Not_Installed        N/A     False      \n",
      "config_stp_esc False    Not_Installed        N/A     False      \n",
      "etc_wcc        False    Not_Installed        N/A     False      \n",
      "etc_esc        False    Not_Installed        N/A     False      \n"
     ]
    }
   ],
   "source": [
    "output = utils_config.check_imports_and_versions(globals().items())"
   ]
  },
  {
   "cell_type": "markdown",
   "metadata": {},
   "source": [
    "It can also be used to produce the same report for other repos of interest.<br>\n",
    "In this case the repo is flagged as dirty because this notebook is being modified."
   ]
  },
  {
   "cell_type": "code",
   "execution_count": 4,
   "metadata": {},
   "outputs": [
    {
     "name": "stdout",
     "output_type": "stream",
     "text": [
      "Module                  Imported Installed_Version             Branch                    is_dirty()?\n",
      "----------------------- -------- ----------------------------- ------------------------- -----------\n",
      "config_project_template True     0.0.post13+g576fb05.d20250513 pingraham/example-updates True       \n"
     ]
    }
   ],
   "source": [
    "output = utils_config.check_imports_and_versions(\n",
    "    globals().items(), modules_to_check=[\"config_project_template\"]\n",
    ")"
   ]
  },
  {
   "cell_type": "markdown",
   "metadata": {},
   "source": [
    "## Load the configuration\n",
    "Configurations are be stored in packages external to the tools so multiple stakeholders can access them. They can also be used by CI processes that can automatically generate new reports or values and perform analyses when changes to inputs are performed.<br>\n",
    "Configurations could be stored inside packages (which can be imported) or can just be cloned repositories if people want to interact with the toml files with their own tooling. <br>\n",
    "The case below uses a locally cloned repository that was imported as a package at the top of this notebook. <br>\n",
    "<br>\n",
    "**Note:** This will throw a warning if an environment variable in the configuration is not set. This is explained further in the Appendix of this notebook (at the bottom)."
   ]
  },
  {
   "cell_type": "markdown",
   "metadata": {},
   "source": [
    "Users can specify if the data is returned as astropy units, or without units.<br>\n",
    "See the documentation of utils_config.config_loader for more information. <br>\n",
    "<br>\n",
    "Here we'll drop the units so we don't need to import astropy."
   ]
  },
  {
   "cell_type": "code",
   "execution_count": 5,
   "metadata": {},
   "outputs": [
    {
     "name": "stdout",
     "output_type": "stream",
     "text": [
      "{'common_params': {'Sensor': {'CMOS_QE': '$UASAL_ARCHIVE/example/path/from/repo/to/file/ZWO_ASI6200MM_Pro_QE_curve.fits', 'CMOS_gain': 4, 'CMOS_read': 3, 'CMOS_well': 50000}, 'Pupils': {'aper_clear_OD': 5.0, 'D_chB_clear_OD': 2.0}, 'sim_settings': {'npix': 4096, 'beamrad': 0.4}}}\n"
     ]
    },
    {
     "name": "stderr",
     "output_type": "stream",
     "text": [
      "/Users/pingraham/anaconda3/envs/configs/lib/python3.13/site-packages/utils_config/config_loader.py:103: UserWarning: Environment variable '$UASAL_ARCHIVE' referenced by 'Sensor -> CMOS_QE' is not set so '$UASAL_ARCHIVE/example/path/from/repo/to/file/ZWO_ASI6200MM_Pro_QE_curve.fits' will not expand. If using 'Sensor -> CMOS_QE' please set '$UASAL_ARCHIVE' and call this method again.  Reference the README for instructions on setting up an environment variable.\n",
      "  return {k: self._expand_env_vars(v, path + [k]) for k, v in config.items()}\n"
     ]
    }
   ],
   "source": [
    "data = config_project_template.load_config_values(\"unitless\")\n",
    "print(data)"
   ]
  },
  {
   "cell_type": "markdown",
   "metadata": {},
   "source": [
    "We can also import other configurations and draw from them"
   ]
  },
  {
   "cell_type": "code",
   "execution_count": 6,
   "metadata": {},
   "outputs": [],
   "source": [
    "\n",
    "data_stp = config_stp.load_config_values(\"unitless\")"
   ]
  },
  {
   "cell_type": "markdown",
   "metadata": {},
   "source": [
    "The installed version of the package can be found by printing the version.<br>\n",
    "Having these displayed in the analysis report aids in the reproduction of the results at future times."
   ]
  },
  {
   "cell_type": "code",
   "execution_count": 7,
   "metadata": {},
   "outputs": [
    {
     "name": "stdout",
     "output_type": "stream",
     "text": [
      "config_project_template.__version__='0.0.post13+g576fb05.d20250513'\n",
      "config_stp.__version__='0.0.post112+g9a50d77'\n"
     ]
    }
   ],
   "source": [
    "print(f\"{config_project_template.__version__=}\")\n",
    "print(f\"{config_stp.__version__=}\")"
   ]
  },
  {
   "cell_type": "markdown",
   "metadata": {},
   "source": [
    "## Begin Analysis"
   ]
  },
  {
   "cell_type": "markdown",
   "metadata": {},
   "source": [
    "In this case, we consider the example where we want to iterate over a configuration value and examine the result<br>\n",
    "In this example let's consider changing the slew speed and we'll run that through our analysis tool see how that affects how long to get to and acquire a target."
   ]
  },
  {
   "cell_type": "code",
   "execution_count": 8,
   "metadata": {},
   "outputs": [
    {
     "name": "stdout",
     "output_type": "stream",
     "text": [
      "The baseline slew speed is 0.44 degree/second\n"
     ]
    }
   ],
   "source": [
    "print(\n",
    "    f\"The baseline slew speed is {data_stp['observatory']['motion']['slew_avg_speed']}\"\n",
    ")\n",
    "\n",
    "speeds = [0.1, 0.2, 0.5, 0.6, 0.8, 1, 2, 4, 6, 10]  # [Celsius]\n",
    "\n",
    "slew_distance = 50  # degrees"
   ]
  },
  {
   "cell_type": "markdown",
   "metadata": {},
   "source": [
    "Instantiate example tool class"
   ]
  },
  {
   "cell_type": "code",
   "execution_count": 9,
   "metadata": {},
   "outputs": [
    {
     "name": "stdout",
     "output_type": "stream",
     "text": [
      "Initialized\n"
     ]
    }
   ],
   "source": [
    "example_class = example_tool.exampleTool()"
   ]
  },
  {
   "cell_type": "markdown",
   "metadata": {},
   "source": [
    "Loop over the variable being iterated upon and modify the configuration locally"
   ]
  },
  {
   "cell_type": "code",
   "execution_count": 10,
   "metadata": {},
   "outputs": [
    {
     "name": "stdout",
     "output_type": "stream",
     "text": [
      "Running Simulation with speed of 0.1!\n",
      "Running Simulation with speed of 0.2!\n",
      "Running Simulation with speed of 0.5!\n",
      "Running Simulation with speed of 0.6!\n",
      "Running Simulation with speed of 0.8!\n",
      "Running Simulation with speed of 1!\n",
      "Running Simulation with speed of 2!\n",
      "Running Simulation with speed of 4!\n",
      "Running Simulation with speed of 6!\n",
      "Running Simulation with speed of 10!\n"
     ]
    }
   ],
   "source": [
    "results = {\"speed\": [], \"sim_results\": [], \"config\": []}\n",
    "for s in speeds:\n",
    "    data_stp[\"observatory\"][\"motion\"][\"slew_avg_speed\"] = s\n",
    "    run_result = example_class.run_sim(slew_distance, config=data_stp)\n",
    "    results[\"config\"].append(data_stp)\n",
    "    results[\"speed\"].append(s)\n",
    "    results[\"sim_results\"].append(run_result)"
   ]
  },
  {
   "cell_type": "markdown",
   "metadata": {},
   "source": [
    "## Perform some analysis\n",
    "For example, one could make a plot and look at the results"
   ]
  },
  {
   "cell_type": "code",
   "execution_count": 11,
   "metadata": {},
   "outputs": [
    {
     "data": {
      "text/plain": [
       "Text(0.5, 0, 'slew speed [deg/s]')"
      ]
     },
     "execution_count": 11,
     "metadata": {},
     "output_type": "execute_result"
    },
    {
     "data": {
      "image/png": "[encoded data removed]",
      "text/plain": [
       "<Figure size 640x480 with 1 Axes>"
      ]
     },
     "metadata": {},
     "output_type": "display_data"
    }
   ],
   "source": [
    "x = results[\"speed\"]\n",
    "y = results[\"sim_results\"]\n",
    "plt.plot(x, y, \"x\")\n",
    "plt.ylabel(\"time to target [s]\")\n",
    "plt.xlabel(\"slew speed [deg/s]\")"
   ]
  },
  {
   "cell_type": "markdown",
   "metadata": {},
   "source": [
    "## Report the take-home points in an obvious manner"
   ]
  },
  {
   "cell_type": "code",
   "execution_count": 12,
   "metadata": {},
   "outputs": [
    {
     "name": "stdout",
     "output_type": "stream",
     "text": [
      "The  acquisition overhead starts to dominate over slew speeds when the speed is ~1.5 degrees per second\n"
     ]
    }
   ],
   "source": [
    "print(\n",
    "    \"The  acquisition overhead starts to dominate over slew speeds when the speed is ~1.5 degrees per second\"\n",
    ")"
   ]
  },
  {
   "cell_type": "markdown",
   "metadata": {},
   "source": [
    "### Appendix"
   ]
  },
  {
   "cell_type": "markdown",
   "metadata": {},
   "source": [
    "There exist cases where large files are referenced from within a configuration file but are not stored inside the support_data folder in the repository. At the time of writing, only the wavefront error maps for optical surfaces meet this criteria, however, there exist analyses that access data files that are located via environment variables.<br>\n",
    "For the UASAL group, we have created a repository (uasal_archive) to hold large files, or files that are commonly accessed but do not make sense to associate with a configuration repository. An example of this are Pickles stellar models. <br>\n",
    "If you have this environment variable set on your computer, then config_utils will automatically replace the environment variable in the config file by what is set in your local environment. If a config file contains a reference to an environment variable that is not set, then it will throw a warning. <br>\n",
    "For example, the following will throw a warning as the environment variable is not declared."
   ]
  },
  {
   "cell_type": "markdown",
   "metadata": {},
   "source": []
  },
  {
   "cell_type": "code",
   "execution_count": 13,
   "metadata": {},
   "outputs": [
    {
     "name": "stderr",
     "output_type": "stream",
     "text": [
      "/Users/pingraham/anaconda3/envs/configs/lib/python3.13/site-packages/utils_config/config_loader.py:103: UserWarning: Environment variable '$UASAL_ARCHIVE' referenced by 'Sensor -> CMOS_QE' is not set so '$UASAL_ARCHIVE/example/path/from/repo/to/file/ZWO_ASI6200MM_Pro_QE_curve.fits' will not expand. If using 'Sensor -> CMOS_QE' please set '$UASAL_ARCHIVE' and call this method again.  Reference the README for instructions on setting up an environment variable.\n",
      "  return {k: self._expand_env_vars(v, path + [k]) for k, v in config.items()}\n"
     ]
    }
   ],
   "source": [
    "data = config_project_template.load_config_values()"
   ]
  },
  {
   "cell_type": "markdown",
   "metadata": {},
   "source": [
    "If we set the environment variable, then the path is populated correctly and the warning will not appear.<br>\n",
    "Note that for this example we set the environment variable via Python which is not recommended."
   ]
  },
  {
   "cell_type": "code",
   "execution_count": 14,
   "metadata": {},
   "outputs": [],
   "source": [
    "import os\n",
    "\n",
    "os.environ[\"UASAL_ARCHIVE\"] = \"/path/to/uasal_config\""
   ]
  },
  {
   "cell_type": "code",
   "execution_count": 15,
   "metadata": {},
   "outputs": [],
   "source": [
    "data = config_project_template.load_config_values()"
   ]
  },
  {
   "cell_type": "markdown",
   "metadata": {},
   "source": [
    "The path will now be populated"
   ]
  },
  {
   "cell_type": "code",
   "execution_count": 16,
   "metadata": {},
   "outputs": [
    {
     "data": {
      "text/plain": [
       "'/path/to/uasal_config/example/path/from/repo/to/file/ZWO_ASI6200MM_Pro_QE_curve.fits'"
      ]
     },
     "execution_count": 16,
     "metadata": {},
     "output_type": "execute_result"
    }
   ],
   "source": [
    "data[\"common_params\"][\"Sensor\"][\"CMOS_QE\"]"
   ]
  }
 ],
 "metadata": {
  "kernelspec": {
   "display_name": "configs",
   "language": "python",
   "name": "python3"
  },
  "language_info": {
   "codemirror_mode": {
    "name": "ipython",
    "version": 3
   },
   "file_extension": ".py",
   "mimetype": "text/x-python",
   "name": "python",
   "nbconvert_exporter": "python",
   "pygments_lexer": "ipython3",
   "version": "3.13.2"
  }
 },
 "nbformat": 4,
 "nbformat_minor": 4
}
